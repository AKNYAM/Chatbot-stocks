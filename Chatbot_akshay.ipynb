{
 "cells": [
  {
   "cell_type": "code",
   "execution_count": 2,
   "id": "69eb5b43-942c-4cfb-8fb6-8e8c7fc0a9b7",
   "metadata": {
    "editable": true,
    "slideshow": {
     "slide_type": ""
    },
    "tags": []
   },
   "outputs": [],
   "source": [
    "import yfinance as yf\n",
    "\n",
    "def get_all_stock_data(ticker):\n",
    "    # Fetch data for the stock\n",
    "    stock = yf.Ticker(ticker)\n",
    "    stock_info = stock.history(period=\"1d\")\n",
    "    \n",
    "    # Retrieve key attributes of the stock\n",
    "    stock_data = {\n",
    "        \"ticker\": ticker,\n",
    "        \"open\": stock_info['Open'][0],\n",
    "        \"close\": stock_info['Close'][0],\n",
    "        \"high\": stock_info['High'][0],\n",
    "        \"low\": stock_info['Low'][0],\n",
    "        \"volume\": stock_info['Volume'][0],\n",
    "        \"market_cap\": stock.info.get(\"marketCap\", \"N/A\"),\n",
    "        \"pe_ratio\": stock.info.get(\"trailingPE\", \"N/A\"),\n",
    "        \"eps\": stock.info.get(\"epsTrailingTwelveMonths\", \"N/A\"),\n",
    "        \"beta\": stock.info.get(\"beta\", \"N/A\"),\n",
    "        \"dividends\": stock.dividends[-1:] if len(stock.dividends) > 0 else \"N/A\",\n",
    "        \"stock_splits\": stock.splits[-1:] if len(stock.splits) > 0 else \"N/A\"\n",
    "    }\n",
    "    return stock_data\n"
   ]
  },
  {
   "cell_type": "code",
   "execution_count": 5,
   "id": "86818a30-3807-4c05-903e-f5aa1aa9a69f",
   "metadata": {
    "editable": true,
    "slideshow": {
     "slide_type": ""
    },
    "tags": []
   },
   "outputs": [],
   "source": [
    "import openai\n",
    "import yfinance as yf\n",
    "\n",
    "openai.api_key = 'sk-proj-fCADeGrywkpLnGpZY9nhtU353XLo-So516dpiNyd-Mb2Xn0mWSlFIlK8--FTppZQs0ncSUx-jx2iFXp5FVsA'  # Your OpenAI API Key\n",
    "\n",
    "# Function to get all stock data\n",
    "def get_all_stock_data(ticker):\n",
    "    stock = yf.Ticker(ticker)\n",
    "    stock_info = stock.history(period=\"1d\")\n",
    "    stock_data = {\n",
    "        \"ticker\": ticker,\n",
    "        \"open\": stock_info['Open'][0],\n",
    "        \"close\": stock_info['Close'][0],\n",
    "        \"high\": stock_info['High'][0],\n",
    "        \"low\": stock_info['Low'][0],\n",
    "        \"volume\": stock_info['Volume'][0],\n",
    "        \"market_cap\": stock.info.get(\"marketCap\", \"N/A\"),\n",
    "        \"pe_ratio\": stock.info.get(\"trailingPE\", \"N/A\"),\n",
    "        \"eps\": stock.info.get(\"epsTrailingTwelveMonths\", \"N/A\"),\n",
    "        \"beta\": stock.info.get(\"beta\", \"N/A\"),\n",
    "        \"dividends\": stock.dividends[-1:] if len(stock.dividends) > 0 else \"N/A\",\n",
    "        \"stock_splits\": stock.splits[-1:] if len(stock.splits) > 0 else \"N/A\"\n",
    "    }\n",
    "    return stock_data"
   ]
  },
  {
   "cell_type": "code",
   "execution_count": 7,
   "id": "a229e358-ec98-472d-afe9-9282a9a7c313",
   "metadata": {},
   "outputs": [],
   "source": [
    "# Function to interact with GPT-3 for handling natural language queries\n",
    "def chat_with_gpt(user_input):\n",
    "    response = openai.Completion.create(\n",
    "        model=\"gpt-3.5-turbo\",  # You can replace this with \"gpt-4\" if you have access\n",
    "        prompt=f\"User: {user_input}\\nAssistant:\",\n",
    "        temperature=0.7,\n",
    "        max_tokens=150\n",
    "    )\n",
    "    return response.choices[0].text.strip()"
   ]
  },
  {
   "cell_type": "code",
   "execution_count": 13,
   "id": "a6597bf5-0779-49ee-af47-3f013d53676b",
   "metadata": {},
   "outputs": [],
   "source": [
    "# Function to process user input and identify stock-related queries\n",
    "def process_user_query(query):\n",
    "    # Check if the query is related to stock information\n",
    "    if 'stock' in query.lower() or 'price' in query.lower():\n",
    "        # Extract stock ticker (assuming the ticker is the last word in the query)\n",
    "        words = query.split()\n",
    "        ticker = words[-1].upper()  # Use the last word as the ticker\n",
    "        try:\n",
    "            stock_data = get_all_stock_data(ticker)\n",
    "            return f\"Stock information for {ticker}:\\n\" \\\n",
    "                   f\"Open: ${stock_data['open']}\\n\" \\\n",
    "                   f\"Close: ${stock_data['close']}\\n\" \\\n",
    "                   f\"High: ${stock_data['high']}\\n\" \\\n",
    "                   f\"Low: ${stock_data['low']}\\n\" \\\n",
    "                   f\"Volume: {stock_data['volume']}\\n\" \\\n",
    "                   f\"Market Cap: {stock_data['market_cap']}\\n\" \\\n",
    "                   f\"PE Ratio: {stock_data['pe_ratio']}\\n\" \\\n",
    "                   f\"EPS: {stock_data['eps']}\\n\" \\\n",
    "                   f\"Beta: {stock_data['beta']}\\n\" \\\n",
    "                   f\"Dividends: {stock_data['dividends']}\\n\" \\\n",
    "            f\"Stock Splits: {stock_data['stock_splits']}\"\n",
    "        except Exception as e:\n",
    "            return f\"Sorry, I couldn't retrieve data for {ticker}. Please check the symbol and try again.\"\n",
    "        else:\n",
    "        # Pass all other queries to GPT-3\n",
    "            return chat_with_gpt(query)\n",
    "            "
   ]
  },
  {
   "cell_type": "code",
   "execution_count": null,
   "id": "75ff980e-e771-48ba-8fa9-61492fee58b7",
   "metadata": {},
   "outputs": [
    {
     "name": "stdout",
     "output_type": "stream",
     "text": [
      "Hello! I'm your chatbot. You can ask me anything!\n"
     ]
    },
    {
     "name": "stdin",
     "output_type": "stream",
     "text": [
      "You:  give me all information of AAPl\n"
     ]
    },
    {
     "name": "stdout",
     "output_type": "stream",
     "text": [
      "Assistant: None\n"
     ]
    },
    {
     "name": "stdin",
     "output_type": "stream",
     "text": [
      "You:  AAPL information for yesterday\n"
     ]
    },
    {
     "name": "stdout",
     "output_type": "stream",
     "text": [
      "Assistant: None\n"
     ]
    },
    {
     "name": "stdin",
     "output_type": "stream",
     "text": [
      "You:  Price of AAPL\n"
     ]
    }
   ],
   "source": [
    "def chatbot():\n",
    "    print(\"Hello! I'm your chatbot. You can ask me anything!\")\n",
    "    while True:\n",
    "        query = input(\"You: \")\n",
    "        if query.lower() == 'exit':\n",
    "            print(\"Goodbye!\")\n",
    "            break\n",
    "        response = process_user_query(query)\n",
    "        print(\"Assistant:\", response)\n",
    "\n",
    "if __name__ == \"__main__\":\n",
    "    chatbot()"
   ]
  },
  {
   "cell_type": "code",
   "execution_count": null,
   "id": "03c87227-edbe-440c-a293-a05d1f8a7855",
   "metadata": {},
   "outputs": [],
   "source": []
  }
 ],
 "metadata": {
  "kernelspec": {
   "display_name": "anaconda-2024.02-py310",
   "language": "python",
   "name": "conda-env-anaconda-2024.02-py310-py"
  },
  "language_info": {
   "codemirror_mode": {
    "name": "ipython",
    "version": 3
   },
   "file_extension": ".py",
   "mimetype": "text/x-python",
   "name": "python",
   "nbconvert_exporter": "python",
   "pygments_lexer": "ipython3",
   "version": "3.10.14"
  }
 },
 "nbformat": 4,
 "nbformat_minor": 5
}
